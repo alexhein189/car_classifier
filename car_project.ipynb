{
 "cells": [
  {
   "cell_type": "markdown",
   "id": "7574b5e3",
   "metadata": {},
   "source": [
    "# Car classification model"
   ]
  },
  {
   "cell_type": "code",
   "execution_count": 67,
   "id": "1efe9a54",
   "metadata": {},
   "outputs": [],
   "source": [
    "import torch.nn as nn\n",
    "import torch\n",
    "from torchvision import transforms\n",
    "\n",
    "import torch.optim as optim\n",
    "from torch.utils.data import DataLoader, Dataset\n",
    "from torchvision.datasets import ImageFolder\n",
    "import os"
   ]
  },
  {
   "cell_type": "markdown",
   "id": "be65ac1d",
   "metadata": {},
   "source": [
    "## Directory"
   ]
  },
  {
   "cell_type": "code",
   "execution_count": 68,
   "id": "58e99a60",
   "metadata": {},
   "outputs": [
    {
     "name": "stdout",
     "output_type": "stream",
     "text": [
      "['Acura Integra Type R 2001', 'Acura RL Sedan 2012', 'Acura TL Sedan 2012', 'Acura TL Type-S 2008', 'Acura TSX Sedan 2012', 'Acura ZDX Hatchback 2012', 'AM General Hummer SUV 2000', 'Aston Martin V8 Vantage Convertible 2012', 'Aston Martin V8 Vantage Coupe 2012', 'Aston Martin Virage Convertible 2012', 'Aston Martin Virage Coupe 2012']\n",
      "['Acura Integra Type R 2001', 'Acura RL Sedan 2012', 'Acura TL Sedan 2012', 'Acura TL Type-S 2008', 'Acura TSX Sedan 2012', 'Acura ZDX Hatchback 2012', 'AM General Hummer SUV 2000', 'Aston Martin V8 Vantage Convertible 2012', 'Aston Martin V8 Vantage Coupe 2012', 'Aston Martin Virage Convertible 2012', 'Aston Martin Virage Coupe 2012']\n",
      "196\n",
      "196\n"
     ]
    }
   ],
   "source": [
    "train_dir = r\"C:\\Users\\alexy\\Documents\\deep_learning\\excercises\\reh_pract\\project_2\\car_data\\car_data\\train\"\n",
    "test_dir = r\"C:\\Users\\alexy\\Documents\\deep_learning\\excercises\\reh_pract\\project_2\\car_data\\car_data\\test\"\n",
    "\n",
    "print(os.listdir(train_dir)[:11])\n",
    "print(os.listdir(test_dir)[:11])\n",
    "print(len(os.listdir(train_dir)))\n",
    "print(len(os.listdir(test_dir)))\n"
   ]
  },
  {
   "cell_type": "markdown",
   "id": "806faec5",
   "metadata": {},
   "source": [
    "## Transform"
   ]
  },
  {
   "cell_type": "code",
   "execution_count": 69,
   "id": "3a708d99",
   "metadata": {},
   "outputs": [],
   "source": [
    "img_size =  224\n",
    "train_transform = transforms.Compose([transforms.Resize((img_size,img_size)),transforms.ToTensor()])\n",
    "test_transform = transforms.Compose([transforms.Resize((img_size,img_size)),transforms.ToTensor()])"
   ]
  },
  {
   "cell_type": "markdown",
   "id": "21c4b2af",
   "metadata": {},
   "source": [
    "## Dataset"
   ]
  },
  {
   "cell_type": "code",
   "execution_count": 78,
   "id": "06f4bc9b",
   "metadata": {},
   "outputs": [],
   "source": [
    "train_data = ImageFolder(root=train_dir, transform=train_transform)\n",
    "test_data = ImageFolder(root=test_dir, transform=test_transform)"
   ]
  },
  {
   "cell_type": "markdown",
   "id": "ead24652",
   "metadata": {},
   "source": [
    "## Loader "
   ]
  },
  {
   "cell_type": "code",
   "execution_count": 71,
   "id": "930d1acb",
   "metadata": {},
   "outputs": [],
   "source": [
    "train_loader = DataLoader(dataset=train_data, batch_size=64, shuffle=True)\n",
    "test_loader = DataLoader(dataset=test_data, batch_size=64, shuffle=False)"
   ]
  },
  {
   "cell_type": "code",
   "execution_count": 72,
   "id": "88736eba",
   "metadata": {},
   "outputs": [
    {
     "name": "stdout",
     "output_type": "stream",
     "text": [
      "torch.Size([64, 3, 224, 224]) tensor([147,  86, 161, 135,  33,  17,  93,  40, 182,  64, 124, 114, 151,  51,\n",
      "        123, 194, 122,  25, 151, 131,  50,  32, 187, 109, 109,  87,  80,  31,\n",
      "         41,  63,   3, 128,  31,  81, 112,  56, 138, 146, 177,  80, 108,  64,\n",
      "        161, 135,  19,  27,  34,  76, 116,  97,  43,   0, 170, 164, 192, 123,\n",
      "        156, 130, 129,  23, 115, 120, 120, 166])\n"
     ]
    }
   ],
   "source": [
    "for img, label in train_loader:\n",
    "    print(img.size(),label)\n",
    "    break"
   ]
  },
  {
   "cell_type": "code",
   "execution_count": 73,
   "id": "bcb12878",
   "metadata": {},
   "outputs": [
    {
     "data": {
      "text/plain": [
       "['AM General Hummer SUV 2000',\n",
       " 'Acura Integra Type R 2001',\n",
       " 'Acura RL Sedan 2012',\n",
       " 'Acura TL Sedan 2012',\n",
       " 'Acura TL Type-S 2008',\n",
       " 'Acura TSX Sedan 2012',\n",
       " 'Acura ZDX Hatchback 2012',\n",
       " 'Aston Martin V8 Vantage Convertible 2012',\n",
       " 'Aston Martin V8 Vantage Coupe 2012',\n",
       " 'Aston Martin Virage Convertible 2012',\n",
       " 'Aston Martin Virage Coupe 2012',\n",
       " 'Audi 100 Sedan 1994',\n",
       " 'Audi 100 Wagon 1994',\n",
       " 'Audi A5 Coupe 2012',\n",
       " 'Audi R8 Coupe 2012',\n",
       " 'Audi RS 4 Convertible 2008',\n",
       " 'Audi S4 Sedan 2007',\n",
       " 'Audi S4 Sedan 2012',\n",
       " 'Audi S5 Convertible 2012',\n",
       " 'Audi S5 Coupe 2012',\n",
       " 'Audi S6 Sedan 2011',\n",
       " 'Audi TT Hatchback 2011',\n",
       " 'Audi TT RS Coupe 2012',\n",
       " 'Audi TTS Coupe 2012',\n",
       " 'Audi V8 Sedan 1994',\n",
       " 'BMW 1 Series Convertible 2012',\n",
       " 'BMW 1 Series Coupe 2012',\n",
       " 'BMW 3 Series Sedan 2012',\n",
       " 'BMW 3 Series Wagon 2012',\n",
       " 'BMW 6 Series Convertible 2007',\n",
       " 'BMW ActiveHybrid 5 Sedan 2012',\n",
       " 'BMW M3 Coupe 2012',\n",
       " 'BMW M5 Sedan 2010',\n",
       " 'BMW M6 Convertible 2010',\n",
       " 'BMW X3 SUV 2012',\n",
       " 'BMW X5 SUV 2007',\n",
       " 'BMW X6 SUV 2012',\n",
       " 'BMW Z4 Convertible 2012',\n",
       " 'Bentley Arnage Sedan 2009',\n",
       " 'Bentley Continental Flying Spur Sedan 2007',\n",
       " 'Bentley Continental GT Coupe 2007',\n",
       " 'Bentley Continental GT Coupe 2012',\n",
       " 'Bentley Continental Supersports Conv. Convertible 2012',\n",
       " 'Bentley Mulsanne Sedan 2011',\n",
       " 'Bugatti Veyron 16.4 Convertible 2009',\n",
       " 'Bugatti Veyron 16.4 Coupe 2009',\n",
       " 'Buick Enclave SUV 2012',\n",
       " 'Buick Rainier SUV 2007',\n",
       " 'Buick Regal GS 2012',\n",
       " 'Buick Verano Sedan 2012',\n",
       " 'Cadillac CTS-V Sedan 2012',\n",
       " 'Cadillac Escalade EXT Crew Cab 2007',\n",
       " 'Cadillac SRX SUV 2012',\n",
       " 'Chevrolet Avalanche Crew Cab 2012',\n",
       " 'Chevrolet Camaro Convertible 2012',\n",
       " 'Chevrolet Cobalt SS 2010',\n",
       " 'Chevrolet Corvette Convertible 2012',\n",
       " 'Chevrolet Corvette Ron Fellows Edition Z06 2007',\n",
       " 'Chevrolet Corvette ZR1 2012',\n",
       " 'Chevrolet Express Cargo Van 2007',\n",
       " 'Chevrolet Express Van 2007',\n",
       " 'Chevrolet HHR SS 2010',\n",
       " 'Chevrolet Impala Sedan 2007',\n",
       " 'Chevrolet Malibu Hybrid Sedan 2010',\n",
       " 'Chevrolet Malibu Sedan 2007',\n",
       " 'Chevrolet Monte Carlo Coupe 2007',\n",
       " 'Chevrolet Silverado 1500 Classic Extended Cab 2007',\n",
       " 'Chevrolet Silverado 1500 Extended Cab 2012',\n",
       " 'Chevrolet Silverado 1500 Hybrid Crew Cab 2012',\n",
       " 'Chevrolet Silverado 1500 Regular Cab 2012',\n",
       " 'Chevrolet Silverado 2500HD Regular Cab 2012',\n",
       " 'Chevrolet Sonic Sedan 2012',\n",
       " 'Chevrolet Tahoe Hybrid SUV 2012',\n",
       " 'Chevrolet TrailBlazer SS 2009',\n",
       " 'Chevrolet Traverse SUV 2012',\n",
       " 'Chrysler 300 SRT-8 2010',\n",
       " 'Chrysler Aspen SUV 2009',\n",
       " 'Chrysler Crossfire Convertible 2008',\n",
       " 'Chrysler PT Cruiser Convertible 2008',\n",
       " 'Chrysler Sebring Convertible 2010',\n",
       " 'Chrysler Town and Country Minivan 2012',\n",
       " 'Daewoo Nubira Wagon 2002',\n",
       " 'Dodge Caliber Wagon 2007',\n",
       " 'Dodge Caliber Wagon 2012',\n",
       " 'Dodge Caravan Minivan 1997',\n",
       " 'Dodge Challenger SRT8 2011',\n",
       " 'Dodge Charger SRT-8 2009',\n",
       " 'Dodge Charger Sedan 2012',\n",
       " 'Dodge Dakota Club Cab 2007',\n",
       " 'Dodge Dakota Crew Cab 2010',\n",
       " 'Dodge Durango SUV 2007',\n",
       " 'Dodge Durango SUV 2012',\n",
       " 'Dodge Journey SUV 2012',\n",
       " 'Dodge Magnum Wagon 2008',\n",
       " 'Dodge Ram Pickup 3500 Crew Cab 2010',\n",
       " 'Dodge Ram Pickup 3500 Quad Cab 2009',\n",
       " 'Dodge Sprinter Cargo Van 2009',\n",
       " 'Eagle Talon Hatchback 1998',\n",
       " 'FIAT 500 Abarth 2012',\n",
       " 'FIAT 500 Convertible 2012',\n",
       " 'Ferrari 458 Italia Convertible 2012',\n",
       " 'Ferrari 458 Italia Coupe 2012',\n",
       " 'Ferrari California Convertible 2012',\n",
       " 'Ferrari FF Coupe 2012',\n",
       " 'Fisker Karma Sedan 2012',\n",
       " 'Ford E-Series Wagon Van 2012',\n",
       " 'Ford Edge SUV 2012',\n",
       " 'Ford Expedition EL SUV 2009',\n",
       " 'Ford F-150 Regular Cab 2007',\n",
       " 'Ford F-150 Regular Cab 2012',\n",
       " 'Ford F-450 Super Duty Crew Cab 2012',\n",
       " 'Ford Fiesta Sedan 2012',\n",
       " 'Ford Focus Sedan 2007',\n",
       " 'Ford Freestar Minivan 2007',\n",
       " 'Ford GT Coupe 2006',\n",
       " 'Ford Mustang Convertible 2007',\n",
       " 'Ford Ranger SuperCab 2011',\n",
       " 'GMC Acadia SUV 2012',\n",
       " 'GMC Canyon Extended Cab 2012',\n",
       " 'GMC Savana Van 2012',\n",
       " 'GMC Terrain SUV 2012',\n",
       " 'GMC Yukon Hybrid SUV 2012',\n",
       " 'Geo Metro Convertible 1993',\n",
       " 'HUMMER H2 SUT Crew Cab 2009',\n",
       " 'HUMMER H3T Crew Cab 2010',\n",
       " 'Honda Accord Coupe 2012',\n",
       " 'Honda Accord Sedan 2012',\n",
       " 'Honda Odyssey Minivan 2007',\n",
       " 'Honda Odyssey Minivan 2012',\n",
       " 'Hyundai Accent Sedan 2012',\n",
       " 'Hyundai Azera Sedan 2012',\n",
       " 'Hyundai Elantra Sedan 2007',\n",
       " 'Hyundai Elantra Touring Hatchback 2012',\n",
       " 'Hyundai Genesis Sedan 2012',\n",
       " 'Hyundai Santa Fe SUV 2012',\n",
       " 'Hyundai Sonata Hybrid Sedan 2012',\n",
       " 'Hyundai Sonata Sedan 2012',\n",
       " 'Hyundai Tucson SUV 2012',\n",
       " 'Hyundai Veloster Hatchback 2012',\n",
       " 'Hyundai Veracruz SUV 2012',\n",
       " 'Infiniti G Coupe IPL 2012',\n",
       " 'Infiniti QX56 SUV 2011',\n",
       " 'Isuzu Ascender SUV 2008',\n",
       " 'Jaguar XK XKR 2012',\n",
       " 'Jeep Compass SUV 2012',\n",
       " 'Jeep Grand Cherokee SUV 2012',\n",
       " 'Jeep Liberty SUV 2012',\n",
       " 'Jeep Patriot SUV 2012',\n",
       " 'Jeep Wrangler SUV 2012',\n",
       " 'Lamborghini Aventador Coupe 2012',\n",
       " 'Lamborghini Diablo Coupe 2001',\n",
       " 'Lamborghini Gallardo LP 570-4 Superleggera 2012',\n",
       " 'Lamborghini Reventon Coupe 2008',\n",
       " 'Land Rover LR2 SUV 2012',\n",
       " 'Land Rover Range Rover SUV 2012',\n",
       " 'Lincoln Town Car Sedan 2011',\n",
       " 'MINI Cooper Roadster Convertible 2012',\n",
       " 'Maybach Landaulet Convertible 2012',\n",
       " 'Mazda Tribute SUV 2011',\n",
       " 'McLaren MP4-12C Coupe 2012',\n",
       " 'Mercedes-Benz 300-Class Convertible 1993',\n",
       " 'Mercedes-Benz C-Class Sedan 2012',\n",
       " 'Mercedes-Benz E-Class Sedan 2012',\n",
       " 'Mercedes-Benz S-Class Sedan 2012',\n",
       " 'Mercedes-Benz SL-Class Coupe 2009',\n",
       " 'Mercedes-Benz Sprinter Van 2012',\n",
       " 'Mitsubishi Lancer Sedan 2012',\n",
       " 'Nissan 240SX Coupe 1998',\n",
       " 'Nissan Juke Hatchback 2012',\n",
       " 'Nissan Leaf Hatchback 2012',\n",
       " 'Nissan NV Passenger Van 2012',\n",
       " 'Plymouth Neon Coupe 1999',\n",
       " 'Porsche Panamera Sedan 2012',\n",
       " 'Ram C-V Cargo Van Minivan 2012',\n",
       " 'Rolls-Royce Ghost Sedan 2012',\n",
       " 'Rolls-Royce Phantom Drophead Coupe Convertible 2012',\n",
       " 'Rolls-Royce Phantom Sedan 2012',\n",
       " 'Scion xD Hatchback 2012',\n",
       " 'Spyker C8 Convertible 2009',\n",
       " 'Spyker C8 Coupe 2009',\n",
       " 'Suzuki Aerio Sedan 2007',\n",
       " 'Suzuki Kizashi Sedan 2012',\n",
       " 'Suzuki SX4 Hatchback 2012',\n",
       " 'Suzuki SX4 Sedan 2012',\n",
       " 'Tesla Model S Sedan 2012',\n",
       " 'Toyota 4Runner SUV 2012',\n",
       " 'Toyota Camry Sedan 2012',\n",
       " 'Toyota Corolla Sedan 2012',\n",
       " 'Toyota Sequoia SUV 2012',\n",
       " 'Volkswagen Beetle Hatchback 2012',\n",
       " 'Volkswagen Golf Hatchback 1991',\n",
       " 'Volkswagen Golf Hatchback 2012',\n",
       " 'Volvo 240 Sedan 1993',\n",
       " 'Volvo C30 Hatchback 2012',\n",
       " 'Volvo XC90 SUV 2007',\n",
       " 'smart fortwo Convertible 2012']"
      ]
     },
     "execution_count": 73,
     "metadata": {},
     "output_type": "execute_result"
    }
   ],
   "source": [
    "list(train_data.classes)"
   ]
  },
  {
   "cell_type": "code",
   "execution_count": 74,
   "id": "3a396447",
   "metadata": {},
   "outputs": [
    {
     "data": {
      "text/plain": [
       "196"
      ]
     },
     "execution_count": 74,
     "metadata": {},
     "output_type": "execute_result"
    }
   ],
   "source": [
    "len(list(train_data.classes))"
   ]
  },
  {
   "cell_type": "markdown",
   "id": "4b291789",
   "metadata": {},
   "source": [
    "## CNN model"
   ]
  },
  {
   "cell_type": "code",
   "execution_count": 59,
   "id": "71c880a6",
   "metadata": {},
   "outputs": [],
   "source": [
    "#w-ks+2p/s + 1\n",
    "class CNN(nn.Module):\n",
    "    def __init__(self):\n",
    "        super(CNN, self).__init__()\n",
    "        \n",
    "        #first convolutional layer, original input image size: 224*224*3\n",
    "        self.conv1 = nn.Conv2d(in_channels=3, out_channels=16, kernel_size=3, stride=1)\n",
    "        #after conv1, before pooling: 222*222*16\n",
    "        \n",
    "        self.pool = nn.MaxPool2d(kernel_size=2, stride=2)\n",
    "        \n",
    "        #after conv1, after pooling: 111*111*16\n",
    "        \n",
    "        self.conv2 = nn.Conv2d(in_channels=16, out_channels=32, kernel_size=3, stride=1)\n",
    "        #after conv2, before pooling: 109*109*32\n",
    "        #after conv2, after pooling: 54*54*32\n",
    "        self.conv3 = nn.Conv2d(in_channels=32, out_channels=64, kernel_size=3, stride=1)\n",
    "        #after conv3, before pooling: 52*52*64\n",
    "        #after conv3, after pooling: 26*26*64\n",
    "        self.conv4 = nn.Conv2d(in_channels=64, out_channels=128, kernel_size=3, stride=1)\n",
    "        #after conv4, before pooling: 24*24*128\n",
    "        #after conv4, after pooling:  12*12*128\n",
    "        self.conv5 = nn.Conv2d(in_channels=128, out_channels=256, kernel_size=3, stride=1)\n",
    "        #after conv5, before pooling: 10*10*256\n",
    "        #after conv5, after pooling:  5*5*256\n",
    "        \n",
    "        self.fc1 = nn.Linear(5*5*256, 512)\n",
    "        self.fc2 = nn.Linear(512, 256)\n",
    "        self.fc3 = nn.Linear(256, len(list(train_data.classes)))\n",
    "        \n",
    "        self.relu = nn.ReLU()\n",
    "        \n",
    "    \n",
    "    def forward(self,x):\n",
    "        x = self.conv1(x)\n",
    "        x = self.relu(x)\n",
    "        x = self.pool(x)\n",
    "        \n",
    "        x = self.conv2(x)\n",
    "        x = self.relu(x)\n",
    "        x = self.pool(x)\n",
    "        \n",
    "        x = self.conv3(x)\n",
    "        x = self.relu(x)\n",
    "        x = self.pool(x)\n",
    "        \n",
    "        x = self.conv4(x)\n",
    "        x = self.relu(x)\n",
    "        x = self.pool(x)\n",
    "        \n",
    "        x = self.conv5(x)\n",
    "        x = self.relu(x)\n",
    "        x = self.pool(x)\n",
    "        \n",
    "        out = x.view(-1, 5*5*256)\n",
    "        \n",
    "        out = self.fc1(out)\n",
    "        out = self.relu(out)\n",
    "        \n",
    "        out = self.fc2(out)\n",
    "        out = self.relu(out)\n",
    "        \n",
    "        out = self.fc3(out)\n",
    "        \n",
    "        return out"
   ]
  },
  {
   "cell_type": "code",
   "execution_count": 60,
   "id": "c20334ca",
   "metadata": {},
   "outputs": [],
   "source": [
    "device = torch.device(\"cuda:0\" if torch.cuda.is_available() else \"cpu\")"
   ]
  },
  {
   "cell_type": "code",
   "execution_count": 61,
   "id": "275baa7e",
   "metadata": {},
   "outputs": [
    {
     "data": {
      "text/plain": [
       "device(type='cuda', index=0)"
      ]
     },
     "execution_count": 61,
     "metadata": {},
     "output_type": "execute_result"
    }
   ],
   "source": [
    "device"
   ]
  },
  {
   "cell_type": "code",
   "execution_count": 62,
   "id": "d6eb2a30",
   "metadata": {},
   "outputs": [],
   "source": [
    "model = CNN().to(device)\n",
    "loss_fn = nn.CrossEntropyLoss()\n",
    "optimiser = optim.Adam(params=model.parameters(), lr=0.001)"
   ]
  },
  {
   "cell_type": "code",
   "execution_count": 63,
   "id": "3d595516",
   "metadata": {},
   "outputs": [],
   "source": [
    "import time\n",
    "import matplotlib.pyplot as plt"
   ]
  },
  {
   "cell_type": "markdown",
   "id": "9e812ed2",
   "metadata": {},
   "source": [
    "## Training "
   ]
  },
  {
   "cell_type": "code",
   "execution_count": 64,
   "id": "a470d356",
   "metadata": {},
   "outputs": [],
   "source": [
    "def train(model, loss_fn, optimiser, epochs=10):\n",
    "    training_loss, training_accuracy = [], []\n",
    "    testing_loss, testing_accuracy = [],[]\n",
    "    \n",
    "    for epoch in range(epochs):\n",
    "        model.train()\n",
    "        train_loss, train_accuracy = 0.0, 0.0\n",
    "        for img, label in train_loader:\n",
    "            start = time.time()\n",
    "            optimiser.zero_grad()\n",
    "            img = img.to(device)\n",
    "            label = label.to(device)\n",
    "            output = model(img)\n",
    "\n",
    "            loss = loss_fn(output, label)\n",
    "            loss.backward()\n",
    "            optimiser.step()\n",
    "\n",
    "            train_loss += loss.data.item()\n",
    "            \n",
    "\n",
    "            prediction = torch.argmax(output, 1)\n",
    "            train_accuracy += (prediction==label).sum().item()\n",
    "            \n",
    "        model.eval()\n",
    "        test_loss, test_accuracy =0.0, 0.0\n",
    "\n",
    "        with torch.no_grad():\n",
    "            for img, label in test_loader:\n",
    "                img = img.to(device)\n",
    "                label = label.to(device)\n",
    "                \n",
    "                output = model(img)\n",
    "                loss = loss_fn(output, label)\n",
    "                \n",
    "\n",
    "                test_loss += loss.data.item()\n",
    "                \n",
    "\n",
    "                prediction = torch.argmax(output, 1)\n",
    "                test_accuracy += (prediction==label).sum().item()\n",
    "                \n",
    "\n",
    "        training_loss.append(train_loss/len(train_loader))\n",
    "        training_accuracy.append(train_accuracy/len(train_data))\n",
    "        testing_loss.append(test_loss/len(test_loader))\n",
    "        testing_accuracy.append(test_accuracy/len(test_data))\n",
    "        \n",
    "        end = time.time()\n",
    "        \n",
    "        print('Epoch: {}/{} Train Loss: {:.5f} Train Accuracy: {:.5f} Test Accuracy: {:.5f} Test Loss: {:.5f} - {:.5f}secs'.format(\n",
    "                epoch+1, epochs, train_loss/len(train_loader), train_accuracy/len(train_data), test_accuracy/len(test_loader), test_loss/len(test_data), end-start))\n",
    "    \n",
    "    plt.plot(range(epochs), training_accuracy, label=\"train accuracy\")\n",
    "    plt.plot(range(epochs), testing_accuracy, label=\"test accuracy\")\n",
    "    plt.show()\n",
    "\n",
    "    plt.plot(range(epochs), training_loss, label=\"train loss\")\n",
    "    plt.plot(range(epochs), testing_loss, label=\"test loss\")\n",
    "    plt.show()\n",
    "\n",
    "        "
   ]
  },
  {
   "cell_type": "code",
   "execution_count": 65,
   "id": "ef09b2f7",
   "metadata": {},
   "outputs": [
    {
     "name": "stdout",
     "output_type": "stream",
     "text": [
      "Epoch: 1/10 Train Loss: 5.27989 Train Accuracy: 0.00479 Test Accuracy: 0.34127 Test Loss: 0.08269 - 82.66551secs\n",
      "Epoch: 2/10 Train Loss: 5.27805 Train Accuracy: 0.00675 Test Accuracy: 0.53968 Test Loss: 0.08267 - 83.85330secs\n",
      "Epoch: 3/10 Train Loss: 5.27716 Train Accuracy: 0.00835 Test Accuracy: 0.53968 Test Loss: 0.08265 - 82.12001secs\n",
      "Epoch: 4/10 Train Loss: 5.27649 Train Accuracy: 0.00835 Test Accuracy: 0.53968 Test Loss: 0.08264 - 84.36485secs\n",
      "Epoch: 5/10 Train Loss: 5.27561 Train Accuracy: 0.00835 Test Accuracy: 0.53968 Test Loss: 0.08263 - 85.50935secs\n",
      "Epoch: 6/10 Train Loss: 5.27569 Train Accuracy: 0.00835 Test Accuracy: 0.53968 Test Loss: 0.08264 - 89.24351secs\n",
      "Epoch: 7/10 Train Loss: 5.27501 Train Accuracy: 0.00835 Test Accuracy: 0.53968 Test Loss: 0.08263 - 84.88898secs\n",
      "Epoch: 8/10 Train Loss: 5.27510 Train Accuracy: 0.00835 Test Accuracy: 0.53968 Test Loss: 0.08263 - 82.16325secs\n",
      "Epoch: 9/10 Train Loss: 5.27484 Train Accuracy: 0.00835 Test Accuracy: 0.53968 Test Loss: 0.08263 - 82.68372secs\n",
      "Epoch: 10/10 Train Loss: 5.27476 Train Accuracy: 0.00835 Test Accuracy: 0.53968 Test Loss: 0.08263 - 83.13964secs\n"
     ]
    },
    {
     "data": {
      "image/png": "[encoded data removed]",
      "text/plain": [
       "<Figure size 432x288 with 1 Axes>"
      ]
     },
     "metadata": {
      "needs_background": "light"
     },
     "output_type": "display_data"
    },
    {
     "data": {
      "image/png": "[encoded data removed]",
      "text/plain": [
       "<Figure size 432x288 with 1 Axes>"
      ]
     },
     "metadata": {
      "needs_background": "light"
     },
     "output_type": "display_data"
    }
   ],
   "source": [
    "train(model, loss_fn, optimiser)"
   ]
  },
  {
   "cell_type": "code",
   "execution_count": 75,
   "id": "1c65cb55",
   "metadata": {},
   "outputs": [
    {
     "data": {
      "text/plain": [
       "device(type='cuda', index=0)"
      ]
     },
     "execution_count": 75,
     "metadata": {},
     "output_type": "execute_result"
    }
   ],
   "source": [
    "device"
   ]
  },
  {
   "cell_type": "code",
   "execution_count": 76,
   "id": "e519698e",
   "metadata": {},
   "outputs": [
    {
     "data": {
      "text/plain": [
       "8144"
      ]
     },
     "execution_count": 76,
     "metadata": {},
     "output_type": "execute_result"
    }
   ],
   "source": [
    "len(train_data)"
   ]
  },
  {
   "cell_type": "code",
   "execution_count": 79,
   "id": "8b3d87da",
   "metadata": {},
   "outputs": [
    {
     "data": {
      "text/plain": [
       "8041"
      ]
     },
     "execution_count": 79,
     "metadata": {},
     "output_type": "execute_result"
    }
   ],
   "source": [
    "len(test_data)"
   ]
  },
  {
   "cell_type": "code",
   "execution_count": null,
   "id": "bb85b3a4",
   "metadata": {},
   "outputs": [],
   "source": []
  }
 ],
 "metadata": {
  "kernelspec": {
   "display_name": "Python 3",
   "language": "python",
   "name": "python3"
  },
  "language_info": {
   "codemirror_mode": {
    "name": "ipython",
    "version": 3
   },
   "file_extension": ".py",
   "mimetype": "text/x-python",
   "name": "python",
   "nbconvert_exporter": "python",
   "pygments_lexer": "ipython3",
   "version": "3.8.8"
  }
 },
 "nbformat": 4,
 "nbformat_minor": 5
}
