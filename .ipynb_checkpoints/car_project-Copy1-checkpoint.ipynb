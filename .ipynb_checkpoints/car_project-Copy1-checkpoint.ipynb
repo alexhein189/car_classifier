{
 "cells": [
  {
   "cell_type": "markdown",
   "id": "6a07030e",
   "metadata": {},
   "source": [
    "# Car classification model"
   ]
  },
  {
   "cell_type": "code",
   "execution_count": 4,
   "id": "b25f6bff",
   "metadata": {},
   "outputs": [],
   "source": [
    "import torch.nn as nn\n",
    "import torch\n",
    "from torchvision import transforms\n",
    "\n",
    "import torch.optim as optim\n",
    "from torch.utils.data import DataLoader, Dataset\n",
    "from torchvision.datasets import ImageFolder\n",
    "import os"
   ]
  },
  {
   "cell_type": "markdown",
   "id": "558de951",
   "metadata": {},
   "source": [
    "## Directory"
   ]
  },
  {
   "cell_type": "code",
   "execution_count": 5,
   "id": "268cadbc",
   "metadata": {},
   "outputs": [
    {
     "name": "stdout",
     "output_type": "stream",
     "text": [
      "['Acura Integra Type R 2001', 'Acura RL Sedan 2012', 'Acura TL Sedan 2012', 'Acura TL Type-S 2008', 'Acura TSX Sedan 2012', 'Acura ZDX Hatchback 2012', 'AM General Hummer SUV 2000', 'Aston Martin V8 Vantage Convertible 2012', 'Aston Martin V8 Vantage Coupe 2012', 'Aston Martin Virage Convertible 2012', 'Aston Martin Virage Coupe 2012']\n",
      "['Acura Integra Type R 2001', 'Acura RL Sedan 2012', 'Acura TL Sedan 2012', 'Acura TL Type-S 2008', 'Acura TSX Sedan 2012', 'Acura ZDX Hatchback 2012', 'AM General Hummer SUV 2000', 'Aston Martin V8 Vantage Convertible 2012', 'Aston Martin V8 Vantage Coupe 2012', 'Aston Martin Virage Convertible 2012', 'Aston Martin Virage Coupe 2012']\n",
      "196\n",
      "196\n"
     ]
    }
   ],
   "source": [
    "train_dir = r\"C:\\Users\\alexy\\Documents\\deep_learning\\excercises\\reh_pract\\project_2\\car_data\\car_data\\train\"\n",
    "test_dir = r\"C:\\Users\\alexy\\Documents\\deep_learning\\excercises\\reh_pract\\project_2\\car_data\\car_data\\test\"\n",
    "\n",
    "print(os.listdir(train_dir)[:11])\n",
    "print(os.listdir(test_dir)[:11])\n",
    "print(len(os.listdir(train_dir)))\n",
    "print(len(os.listdir(test_dir)))\n"
   ]
  },
  {
   "cell_type": "markdown",
   "id": "2d7bb24f",
   "metadata": {},
   "source": [
    "## Transform"
   ]
  },
  {
   "cell_type": "code",
   "execution_count": 6,
   "id": "09317658",
   "metadata": {},
   "outputs": [],
   "source": [
    "img_size =  224\n",
    "train_transform = transforms.Compose([transforms.Resize((img_size,img_size)),transforms.ToTensor()])\n",
    "test_transform = transforms.Compose([transforms.Resize((img_size,img_size)),transforms.ToTensor()])"
   ]
  },
  {
   "cell_type": "markdown",
   "id": "ff3909ba",
   "metadata": {},
   "source": [
    "## Dataset"
   ]
  },
  {
   "cell_type": "code",
   "execution_count": 7,
   "id": "f1b19272",
   "metadata": {},
   "outputs": [],
   "source": [
    "train_data = ImageFolder(root=train_dir, transform=train_transform)\n",
    "test_data = ImageFolder(root=train_dir, transform=test_transform)"
   ]
  },
  {
   "cell_type": "markdown",
   "id": "f1522203",
   "metadata": {},
   "source": [
    "## Loader "
   ]
  },
  {
   "cell_type": "code",
   "execution_count": 8,
   "id": "259a2a4d",
   "metadata": {},
   "outputs": [],
   "source": [
    "train_loader = DataLoader(dataset=train_data, batch_size=64, shuffle=True)\n",
    "test_loader = DataLoader(dataset=test_data, batch_size=64, shuffle=False)"
   ]
  },
  {
   "cell_type": "code",
   "execution_count": 9,
   "id": "5638520e",
   "metadata": {},
   "outputs": [
    {
     "name": "stdout",
     "output_type": "stream",
     "text": [
      "torch.Size([64, 3, 224, 224]) tensor([  8,  67, 156,  91,  49, 118,  72, 172, 195, 149,   9, 145, 122, 177,\n",
      "         93, 176,  74,  86,  73, 182, 193, 187, 161,  63, 139, 126,  87, 174,\n",
      "         34, 183, 185, 186,  67,  12, 157,  56, 184, 151, 162, 144, 161,  66,\n",
      "         18, 171, 142,  97, 151,  40, 189, 134,  59,  39, 129, 172, 119,  63,\n",
      "        103,  79,  23, 181, 177, 139,  56,   7])\n"
     ]
    }
   ],
   "source": [
    "for img, label in train_loader:\n",
    "    print(img.size(),label)\n",
    "    break"
   ]
  },
  {
   "cell_type": "code",
   "execution_count": 10,
   "id": "dd9c2e17",
   "metadata": {},
   "outputs": [
    {
     "data": {
      "text/plain": [
       "['AM General Hummer SUV 2000',\n",
       " 'Acura Integra Type R 2001',\n",
       " 'Acura RL Sedan 2012',\n",
       " 'Acura TL Sedan 2012',\n",
       " 'Acura TL Type-S 2008',\n",
       " 'Acura TSX Sedan 2012',\n",
       " 'Acura ZDX Hatchback 2012',\n",
       " 'Aston Martin V8 Vantage Convertible 2012',\n",
       " 'Aston Martin V8 Vantage Coupe 2012',\n",
       " 'Aston Martin Virage Convertible 2012',\n",
       " 'Aston Martin Virage Coupe 2012',\n",
       " 'Audi 100 Sedan 1994',\n",
       " 'Audi 100 Wagon 1994',\n",
       " 'Audi A5 Coupe 2012',\n",
       " 'Audi R8 Coupe 2012',\n",
       " 'Audi RS 4 Convertible 2008',\n",
       " 'Audi S4 Sedan 2007',\n",
       " 'Audi S4 Sedan 2012',\n",
       " 'Audi S5 Convertible 2012',\n",
       " 'Audi S5 Coupe 2012',\n",
       " 'Audi S6 Sedan 2011',\n",
       " 'Audi TT Hatchback 2011',\n",
       " 'Audi TT RS Coupe 2012',\n",
       " 'Audi TTS Coupe 2012',\n",
       " 'Audi V8 Sedan 1994',\n",
       " 'BMW 1 Series Convertible 2012',\n",
       " 'BMW 1 Series Coupe 2012',\n",
       " 'BMW 3 Series Sedan 2012',\n",
       " 'BMW 3 Series Wagon 2012',\n",
       " 'BMW 6 Series Convertible 2007',\n",
       " 'BMW ActiveHybrid 5 Sedan 2012',\n",
       " 'BMW M3 Coupe 2012',\n",
       " 'BMW M5 Sedan 2010',\n",
       " 'BMW M6 Convertible 2010',\n",
       " 'BMW X3 SUV 2012',\n",
       " 'BMW X5 SUV 2007',\n",
       " 'BMW X6 SUV 2012',\n",
       " 'BMW Z4 Convertible 2012',\n",
       " 'Bentley Arnage Sedan 2009',\n",
       " 'Bentley Continental Flying Spur Sedan 2007',\n",
       " 'Bentley Continental GT Coupe 2007',\n",
       " 'Bentley Continental GT Coupe 2012',\n",
       " 'Bentley Continental Supersports Conv. Convertible 2012',\n",
       " 'Bentley Mulsanne Sedan 2011',\n",
       " 'Bugatti Veyron 16.4 Convertible 2009',\n",
       " 'Bugatti Veyron 16.4 Coupe 2009',\n",
       " 'Buick Enclave SUV 2012',\n",
       " 'Buick Rainier SUV 2007',\n",
       " 'Buick Regal GS 2012',\n",
       " 'Buick Verano Sedan 2012',\n",
       " 'Cadillac CTS-V Sedan 2012',\n",
       " 'Cadillac Escalade EXT Crew Cab 2007',\n",
       " 'Cadillac SRX SUV 2012',\n",
       " 'Chevrolet Avalanche Crew Cab 2012',\n",
       " 'Chevrolet Camaro Convertible 2012',\n",
       " 'Chevrolet Cobalt SS 2010',\n",
       " 'Chevrolet Corvette Convertible 2012',\n",
       " 'Chevrolet Corvette Ron Fellows Edition Z06 2007',\n",
       " 'Chevrolet Corvette ZR1 2012',\n",
       " 'Chevrolet Express Cargo Van 2007',\n",
       " 'Chevrolet Express Van 2007',\n",
       " 'Chevrolet HHR SS 2010',\n",
       " 'Chevrolet Impala Sedan 2007',\n",
       " 'Chevrolet Malibu Hybrid Sedan 2010',\n",
       " 'Chevrolet Malibu Sedan 2007',\n",
       " 'Chevrolet Monte Carlo Coupe 2007',\n",
       " 'Chevrolet Silverado 1500 Classic Extended Cab 2007',\n",
       " 'Chevrolet Silverado 1500 Extended Cab 2012',\n",
       " 'Chevrolet Silverado 1500 Hybrid Crew Cab 2012',\n",
       " 'Chevrolet Silverado 1500 Regular Cab 2012',\n",
       " 'Chevrolet Silverado 2500HD Regular Cab 2012',\n",
       " 'Chevrolet Sonic Sedan 2012',\n",
       " 'Chevrolet Tahoe Hybrid SUV 2012',\n",
       " 'Chevrolet TrailBlazer SS 2009',\n",
       " 'Chevrolet Traverse SUV 2012',\n",
       " 'Chrysler 300 SRT-8 2010',\n",
       " 'Chrysler Aspen SUV 2009',\n",
       " 'Chrysler Crossfire Convertible 2008',\n",
       " 'Chrysler PT Cruiser Convertible 2008',\n",
       " 'Chrysler Sebring Convertible 2010',\n",
       " 'Chrysler Town and Country Minivan 2012',\n",
       " 'Daewoo Nubira Wagon 2002',\n",
       " 'Dodge Caliber Wagon 2007',\n",
       " 'Dodge Caliber Wagon 2012',\n",
       " 'Dodge Caravan Minivan 1997',\n",
       " 'Dodge Challenger SRT8 2011',\n",
       " 'Dodge Charger SRT-8 2009',\n",
       " 'Dodge Charger Sedan 2012',\n",
       " 'Dodge Dakota Club Cab 2007',\n",
       " 'Dodge Dakota Crew Cab 2010',\n",
       " 'Dodge Durango SUV 2007',\n",
       " 'Dodge Durango SUV 2012',\n",
       " 'Dodge Journey SUV 2012',\n",
       " 'Dodge Magnum Wagon 2008',\n",
       " 'Dodge Ram Pickup 3500 Crew Cab 2010',\n",
       " 'Dodge Ram Pickup 3500 Quad Cab 2009',\n",
       " 'Dodge Sprinter Cargo Van 2009',\n",
       " 'Eagle Talon Hatchback 1998',\n",
       " 'FIAT 500 Abarth 2012',\n",
       " 'FIAT 500 Convertible 2012',\n",
       " 'Ferrari 458 Italia Convertible 2012',\n",
       " 'Ferrari 458 Italia Coupe 2012',\n",
       " 'Ferrari California Convertible 2012',\n",
       " 'Ferrari FF Coupe 2012',\n",
       " 'Fisker Karma Sedan 2012',\n",
       " 'Ford E-Series Wagon Van 2012',\n",
       " 'Ford Edge SUV 2012',\n",
       " 'Ford Expedition EL SUV 2009',\n",
       " 'Ford F-150 Regular Cab 2007',\n",
       " 'Ford F-150 Regular Cab 2012',\n",
       " 'Ford F-450 Super Duty Crew Cab 2012',\n",
       " 'Ford Fiesta Sedan 2012',\n",
       " 'Ford Focus Sedan 2007',\n",
       " 'Ford Freestar Minivan 2007',\n",
       " 'Ford GT Coupe 2006',\n",
       " 'Ford Mustang Convertible 2007',\n",
       " 'Ford Ranger SuperCab 2011',\n",
       " 'GMC Acadia SUV 2012',\n",
       " 'GMC Canyon Extended Cab 2012',\n",
       " 'GMC Savana Van 2012',\n",
       " 'GMC Terrain SUV 2012',\n",
       " 'GMC Yukon Hybrid SUV 2012',\n",
       " 'Geo Metro Convertible 1993',\n",
       " 'HUMMER H2 SUT Crew Cab 2009',\n",
       " 'HUMMER H3T Crew Cab 2010',\n",
       " 'Honda Accord Coupe 2012',\n",
       " 'Honda Accord Sedan 2012',\n",
       " 'Honda Odyssey Minivan 2007',\n",
       " 'Honda Odyssey Minivan 2012',\n",
       " 'Hyundai Accent Sedan 2012',\n",
       " 'Hyundai Azera Sedan 2012',\n",
       " 'Hyundai Elantra Sedan 2007',\n",
       " 'Hyundai Elantra Touring Hatchback 2012',\n",
       " 'Hyundai Genesis Sedan 2012',\n",
       " 'Hyundai Santa Fe SUV 2012',\n",
       " 'Hyundai Sonata Hybrid Sedan 2012',\n",
       " 'Hyundai Sonata Sedan 2012',\n",
       " 'Hyundai Tucson SUV 2012',\n",
       " 'Hyundai Veloster Hatchback 2012',\n",
       " 'Hyundai Veracruz SUV 2012',\n",
       " 'Infiniti G Coupe IPL 2012',\n",
       " 'Infiniti QX56 SUV 2011',\n",
       " 'Isuzu Ascender SUV 2008',\n",
       " 'Jaguar XK XKR 2012',\n",
       " 'Jeep Compass SUV 2012',\n",
       " 'Jeep Grand Cherokee SUV 2012',\n",
       " 'Jeep Liberty SUV 2012',\n",
       " 'Jeep Patriot SUV 2012',\n",
       " 'Jeep Wrangler SUV 2012',\n",
       " 'Lamborghini Aventador Coupe 2012',\n",
       " 'Lamborghini Diablo Coupe 2001',\n",
       " 'Lamborghini Gallardo LP 570-4 Superleggera 2012',\n",
       " 'Lamborghini Reventon Coupe 2008',\n",
       " 'Land Rover LR2 SUV 2012',\n",
       " 'Land Rover Range Rover SUV 2012',\n",
       " 'Lincoln Town Car Sedan 2011',\n",
       " 'MINI Cooper Roadster Convertible 2012',\n",
       " 'Maybach Landaulet Convertible 2012',\n",
       " 'Mazda Tribute SUV 2011',\n",
       " 'McLaren MP4-12C Coupe 2012',\n",
       " 'Mercedes-Benz 300-Class Convertible 1993',\n",
       " 'Mercedes-Benz C-Class Sedan 2012',\n",
       " 'Mercedes-Benz E-Class Sedan 2012',\n",
       " 'Mercedes-Benz S-Class Sedan 2012',\n",
       " 'Mercedes-Benz SL-Class Coupe 2009',\n",
       " 'Mercedes-Benz Sprinter Van 2012',\n",
       " 'Mitsubishi Lancer Sedan 2012',\n",
       " 'Nissan 240SX Coupe 1998',\n",
       " 'Nissan Juke Hatchback 2012',\n",
       " 'Nissan Leaf Hatchback 2012',\n",
       " 'Nissan NV Passenger Van 2012',\n",
       " 'Plymouth Neon Coupe 1999',\n",
       " 'Porsche Panamera Sedan 2012',\n",
       " 'Ram C-V Cargo Van Minivan 2012',\n",
       " 'Rolls-Royce Ghost Sedan 2012',\n",
       " 'Rolls-Royce Phantom Drophead Coupe Convertible 2012',\n",
       " 'Rolls-Royce Phantom Sedan 2012',\n",
       " 'Scion xD Hatchback 2012',\n",
       " 'Spyker C8 Convertible 2009',\n",
       " 'Spyker C8 Coupe 2009',\n",
       " 'Suzuki Aerio Sedan 2007',\n",
       " 'Suzuki Kizashi Sedan 2012',\n",
       " 'Suzuki SX4 Hatchback 2012',\n",
       " 'Suzuki SX4 Sedan 2012',\n",
       " 'Tesla Model S Sedan 2012',\n",
       " 'Toyota 4Runner SUV 2012',\n",
       " 'Toyota Camry Sedan 2012',\n",
       " 'Toyota Corolla Sedan 2012',\n",
       " 'Toyota Sequoia SUV 2012',\n",
       " 'Volkswagen Beetle Hatchback 2012',\n",
       " 'Volkswagen Golf Hatchback 1991',\n",
       " 'Volkswagen Golf Hatchback 2012',\n",
       " 'Volvo 240 Sedan 1993',\n",
       " 'Volvo C30 Hatchback 2012',\n",
       " 'Volvo XC90 SUV 2007',\n",
       " 'smart fortwo Convertible 2012']"
      ]
     },
     "execution_count": 10,
     "metadata": {},
     "output_type": "execute_result"
    }
   ],
   "source": [
    "list(train_data.classes)"
   ]
  },
  {
   "cell_type": "code",
   "execution_count": 11,
   "id": "c4a83626",
   "metadata": {},
   "outputs": [
    {
     "data": {
      "text/plain": [
       "196"
      ]
     },
     "execution_count": 11,
     "metadata": {},
     "output_type": "execute_result"
    }
   ],
   "source": [
    "len(list(train_data.classes))"
   ]
  },
  {
   "cell_type": "markdown",
   "id": "a156bc30",
   "metadata": {},
   "source": [
    "## CNN model"
   ]
  },
  {
   "cell_type": "code",
   "execution_count": 19,
   "id": "cf6c4e2c",
   "metadata": {},
   "outputs": [],
   "source": [
    "#w-ks+2p/s + 1\n",
    "class CNN(nn.Module):\n",
    "    def __init__(self):\n",
    "        super(CNN, self).__init__()\n",
    "        \n",
    "        #first convolutional layer, original input image size: 224*224*3\n",
    "        self.conv1 = nn.Conv2d(in_channels=3, out_channels=16, kernel_size=3, stride=1)\n",
    "        #after conv1, before pooling: 222*222*16\n",
    "        \n",
    "        self.pool = nn.MaxPool2d(kernel_size=2, stride=2)\n",
    "        \n",
    "        #after conv1, after pooling: 111*111*16\n",
    "        \n",
    "        self.conv2 = nn.Conv2d(in_channels=16, out_channels=32, kernel_size=3, stride=1)\n",
    "        #after conv2, before pooling: 109*109*32\n",
    "        #after conv2, after pooling: 54*54*32\n",
    "        self.conv3 = nn.Conv2d(in_channels=32, out_channels=64, kernel_size=3, stride=1)\n",
    "        #after conv3, before pooling: 52*52*64\n",
    "        #after conv3, after pooling: 26*26*64\n",
    "        self.conv4 = nn.Conv2d(in_channels=64, out_channels=128, kernel_size=3, stride=1)\n",
    "        #after conv4, before pooling: 24*24*128\n",
    "        #after conv4, after pooling:  12*12*128\n",
    "        self.conv5 = nn.Conv2d(in_channels=128, out_channels=256, kernel_size=3, stride=1)\n",
    "        #after conv5, before pooling: 10*10*256\n",
    "        #after conv5, after pooling:  5*5*256\n",
    "        \n",
    "        self.fc1 = nn.Linear(5*5*256, 512)\n",
    "        self.fc2 = nn.Linear(512, 256)\n",
    "        self.fc3 = nn.Linear(256, len(list(train_data.classes)))\n",
    "        \n",
    "        self.relu = nn.ReLU()\n",
    "        \n",
    "    \n",
    "    def forward(self,x):\n",
    "        x = self.conv1(x)\n",
    "        x = self.relu(x)\n",
    "        x = self.pool(x)\n",
    "        \n",
    "        x = self.conv2(x)\n",
    "        x = self.relu(x)\n",
    "        x = self.pool(x)\n",
    "        \n",
    "        x = self.conv3(x)\n",
    "        x = self.relu(x)\n",
    "        x = self.pool(x)\n",
    "        \n",
    "        x = self.conv4(x)\n",
    "        x = self.relu(x)\n",
    "        x = self.pool(x)\n",
    "        \n",
    "        x = self.conv5(x)\n",
    "        x = self.relu(x)\n",
    "        x = self.pool(x)\n",
    "        \n",
    "        out = x.view(-1, 5*5*256)\n",
    "        \n",
    "        out = self.fc1(out)\n",
    "        out = self.relu(out)\n",
    "        \n",
    "        out = self.fc2(out)\n",
    "        out = self.relu(out)\n",
    "        \n",
    "        out = self.fc3(out)\n",
    "        \n",
    "        return out"
   ]
  },
  {
   "cell_type": "code",
   "execution_count": 24,
   "id": "4aaa1741",
   "metadata": {},
   "outputs": [],
   "source": [
    "device = torch.device(\"cuda:0\" if torch.cuda.is_available() else \"cpu\")"
   ]
  },
  {
   "cell_type": "code",
   "execution_count": 25,
   "id": "4c1f087f",
   "metadata": {},
   "outputs": [
    {
     "data": {
      "text/plain": [
       "device(type='cuda', index=0)"
      ]
     },
     "execution_count": 25,
     "metadata": {},
     "output_type": "execute_result"
    }
   ],
   "source": [
    "device"
   ]
  },
  {
   "cell_type": "code",
   "execution_count": 29,
   "id": "83525bd1",
   "metadata": {},
   "outputs": [],
   "source": [
    "model = CNN().to(device)\n",
    "loss_fn = nn.CrossEntropyLoss()\n",
    "optimiser = optim.Adam(params=model.parameters(), lr=0.001)"
   ]
  },
  {
   "cell_type": "code",
   "execution_count": 30,
   "id": "76e22b0b",
   "metadata": {},
   "outputs": [],
   "source": [
    "import time\n",
    "import matplotlib.pyplot as plt"
   ]
  },
  {
   "cell_type": "code",
   "execution_count": 32,
   "id": "86a96868",
   "metadata": {},
   "outputs": [],
   "source": [
    "def train(model, loss_fn, optimiser, epochs=10):\n",
    "    training_loss, training_accuracy = [], []\n",
    "    testing_loss, testing_accuracy = [],[]\n",
    "    \n",
    "    for epoch in range(epochs):\n",
    "        model.train()\n",
    "        for img, label in train_loader:\n",
    "            start = time.time()\n",
    "            train_loss, train_accuracy = 0.0, 0.0\n",
    "            optimiser.zero_grad()\n",
    "            img = img.to(device)\n",
    "            label = label.to(device)\n",
    "            output = model(img)\n",
    "\n",
    "            loss = loss_fn(output, label)\n",
    "            loss.backward()\n",
    "            optimiser.step()\n",
    "\n",
    "            train_loss += loss.data.item()\n",
    "            \n",
    "\n",
    "            prediction = torch.argmax(output, 1)\n",
    "            train_accuracy += (prediction==label).sum().item()\n",
    "            \n",
    "\n",
    "        test_loss, test_accuracy =0.0, 0.0\n",
    "        model.eval()\n",
    "\n",
    "        with torch.no_grad():\n",
    "            for img, label in test_loader:\n",
    "                test_loss, test_accuracy = 0.0, 0.0\n",
    "                img = img.to(device)\n",
    "                label = label.to(device)\n",
    "                \n",
    "                output = model(img)\n",
    "                loss = loss_fn(output, label)\n",
    "                \n",
    "\n",
    "                test_loss += loss.data.item()\n",
    "                \n",
    "\n",
    "                prediction = torch.argmax(output, 1)\n",
    "                test_accuracy += (prediction==label).sum().item()\n",
    "                \n",
    "\n",
    "        training_loss.append(train_loss/len(train_loader))\n",
    "        training_accuracy.append(train_accuracy/len(train_data))\n",
    "        testing_loss.append(test_loss/len(test_loader))\n",
    "        testing_accuracy.append(test_accuracy/len(test_data))\n",
    "        \n",
    "        end = time.time()\n",
    "        \n",
    "        print('Epoch: {}/{} Train Loss: {:.2f} Train Accuracy: {:.2f} Test Accuracy: {:.2f} Test Loss: {:.2f} - {:.2f}secs'.format(\n",
    "                epoch+1, epochs, train_loss/len(train_loader), train_accuracy/len(train_data), test_accuracy/len(test_loader), test_loss/len(test_data), end-start))\n",
    "    \n",
    "    plt.plot(range(epochs), training_accuracy, label=\"train accuracy\")\n",
    "    plt.plot(range(epochs), testing_accuracy, label=\"test accuracy\")\n",
    "    plt.show()\n",
    "\n",
    "    plt.plot(range(epochs), training_loss, label=\"train loss\")\n",
    "    plt.plot(range(epochs), testing_loss, label=\"test loss\")\n",
    "    plt.show()\n",
    "\n",
    "        "
   ]
  },
  {
   "cell_type": "code",
   "execution_count": null,
   "id": "8db37ce5",
   "metadata": {},
   "outputs": [
    {
     "name": "stdout",
     "output_type": "stream",
     "text": [
      "Epoch: 1/10 Train Loss: 0.04 Train Accuracy: 0.00 Test Accuracy: 0.00 Test Loss: 0.00 - 100.46secs\n"
     ]
    }
   ],
   "source": [
    "train(model, loss_fn, optimiser)"
   ]
  },
  {
   "cell_type": "code",
   "execution_count": null,
   "id": "3cce4f8e",
   "metadata": {},
   "outputs": [],
   "source": []
  },
  {
   "cell_type": "code",
   "execution_count": null,
   "id": "a95e1771",
   "metadata": {},
   "outputs": [],
   "source": []
  }
 ],
 "metadata": {
  "kernelspec": {
   "display_name": "Python 3",
   "language": "python",
   "name": "python3"
  },
  "language_info": {
   "codemirror_mode": {
    "name": "ipython",
    "version": 3
   },
   "file_extension": ".py",
   "mimetype": "text/x-python",
   "name": "python",
   "nbconvert_exporter": "python",
   "pygments_lexer": "ipython3",
   "version": "3.8.8"
  }
 },
 "nbformat": 4,
 "nbformat_minor": 5
}
